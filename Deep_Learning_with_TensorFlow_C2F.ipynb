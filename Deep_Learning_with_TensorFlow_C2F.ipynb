{
  "nbformat": 4,
  "nbformat_minor": 0,
  "metadata": {
    "colab": {
      "name": "Deep_Learning_with_TensorFlow_C2F.ipynb",
      "provenance": [],
      "collapsed_sections": []
    },
    "kernelspec": {
      "name": "python3",
      "display_name": "Python 3"
    }
  },
  "cells": [
    {
      "cell_type": "code",
      "metadata": {
        "id": "snx9yrmCP_QP",
        "colab_type": "code",
        "colab": {
          "base_uri": "https://localhost:8080/",
          "height": 34
        },
        "outputId": "77b7ea80-8a23-482f-8dc9-5ba7ec19dfee"
      },
      "source": [
        "print(\"Hello to the World of Deep_Learning\")"
      ],
      "execution_count": 15,
      "outputs": [
        {
          "output_type": "stream",
          "text": [
            "Hello to the World of Deep_Learning\n"
          ],
          "name": "stdout"
        }
      ]
    },
    {
      "cell_type": "code",
      "metadata": {
        "id": "0Uj6avSkQL8m",
        "colab_type": "code",
        "colab": {}
      },
      "source": [
        "import tensorflow as tf\n",
        "import numpy as np\n",
        "import matplotlib.pyplot as plt"
      ],
      "execution_count": 7,
      "outputs": []
    },
    {
      "cell_type": "code",
      "metadata": {
        "id": "e334xw4GhyaI",
        "colab_type": "code",
        "colab": {}
      },
      "source": [
        "celcius_q = np.array([-40, -10, 0, 8, 15, 28, 32], dtype=float)\n",
        "fahrenheit_a = np.array([-40, 14, 32, 46, 59, 72,100], dtype=float)"
      ],
      "execution_count": 24,
      "outputs": []
    },
    {
      "cell_type": "code",
      "metadata": {
        "id": "OVZ6jqMxiAXQ",
        "colab_type": "code",
        "colab": {
          "base_uri": "https://localhost:8080/",
          "height": 136
        },
        "outputId": "9c041745-9596-40bb-b0b6-cb2707838dc7"
      },
      "source": [
        "for counter, value in enumerate(celcius_q):\n",
        "    print('{} degree Celcius = {} degree Fahrenheit'.format(value, fahrenheit_a[counter]))"
      ],
      "execution_count": 38,
      "outputs": [
        {
          "output_type": "stream",
          "text": [
            "-40.0 degree Celcius = -40.0 degree Fahrenheit\n",
            "-10.0 degree Celcius = 14.0 degree Fahrenheit\n",
            "0.0 degree Celcius = 32.0 degree Fahrenheit\n",
            "8.0 degree Celcius = 46.0 degree Fahrenheit\n",
            "15.0 degree Celcius = 59.0 degree Fahrenheit\n",
            "28.0 degree Celcius = 72.0 degree Fahrenheit\n",
            "32.0 degree Celcius = 100.0 degree Fahrenheit\n"
          ],
          "name": "stdout"
        }
      ]
    },
    {
      "cell_type": "code",
      "metadata": {
        "id": "lPPIkIaNiDFo",
        "colab_type": "code",
        "colab": {}
      },
      "source": [
        "# Lets create our model of single dense layer:\n",
        "I0 = tf.keras.layers.Dense(units=1, input_shape=[1])"
      ],
      "execution_count": 39,
      "outputs": []
    },
    {
      "cell_type": "code",
      "metadata": {
        "id": "yFgbD7AhiF7O",
        "colab_type": "code",
        "colab": {}
      },
      "source": [
        "# Lets Assemble Layers into the model:\n",
        "model = tf.keras.Sequential([I0])"
      ],
      "execution_count": 40,
      "outputs": []
    },
    {
      "cell_type": "code",
      "metadata": {
        "id": "VffuEM8riH1y",
        "colab_type": "code",
        "colab": {}
      },
      "source": [
        "# Complie the model with loss and optimizer function:\n",
        "model.compile(loss='mean_squared_error', optimizer=tf.keras.optimizers.Adam(0.1))"
      ],
      "execution_count": 41,
      "outputs": []
    },
    {
      "cell_type": "code",
      "metadata": {
        "id": "LL84vWKJiJ6h",
        "colab_type": "code",
        "colab": {
          "base_uri": "https://localhost:8080/",
          "height": 34
        },
        "outputId": "debbd5d8-ec11-4be2-8adc-fa2d70df15e2"
      },
      "source": [
        "# Train the model:\n",
        "history = model.fit(celcius_q, fahrenheit_a, epochs=500, verbose=False)\n",
        "print('Finished Training the Model')"
      ],
      "execution_count": 42,
      "outputs": [
        {
          "output_type": "stream",
          "text": [
            "Finished Training the Model\n"
          ],
          "name": "stdout"
        }
      ]
    },
    {
      "cell_type": "code",
      "metadata": {
        "id": "bbhvXh0WiL9C",
        "colab_type": "code",
        "colab": {
          "base_uri": "https://localhost:8080/",
          "height": 279
        },
        "outputId": "3bb0c693-3b59-4887-d0ec-269d761894d5"
      },
      "source": [
        "plt.xlabel(\"Epochs Number\")\n",
        "plt.ylabel(\"Loss Magnitude\")\n",
        "plt.plot(history.history['loss'])\n",
        "plt.show()"
      ],
      "execution_count": 43,
      "outputs": [
        {
          "output_type": "display_data",
          "data": {
            "image/png": "[encoded data removed]",
            "text/plain": [
              "<Figure size 432x288 with 1 Axes>"
            ]
          },
          "metadata": {
            "tags": [],
            "needs_background": "light"
          }
        }
      ]
    },
    {
      "cell_type": "code",
      "metadata": {
        "id": "tJd-X7eriN4h",
        "colab_type": "code",
        "colab": {
          "base_uri": "https://localhost:8080/",
          "height": 71
        },
        "outputId": "495e7a16-30b3-46b4-c2d3-4a893d3fecf7"
      },
      "source": [
        "# Use the model to predict the Values:\n",
        "print(model.predict([100]))\n",
        "\n",
        "# The correct result is: 1.8*100 + 32 = 212"
      ],
      "execution_count": 44,
      "outputs": [
        {
          "output_type": "stream",
          "text": [
            "WARNING:tensorflow:8 out of the last 9 calls to <function Model.make_predict_function.<locals>.predict_function at 0x7ff96c591400> triggered tf.function retracing. Tracing is expensive and the excessive number of tracings could be due to (1) creating @tf.function repeatedly in a loop, (2) passing tensors with different shapes, (3) passing Python objects instead of tensors. For (1), please define your @tf.function outside of the loop. For (2), @tf.function has experimental_relax_shapes=True option that relaxes argument shapes that can avoid unnecessary retracing. For (3), please refer to https://www.tensorflow.org/tutorials/customization/performance#python_or_tensor_args and https://www.tensorflow.org/api_docs/python/tf/function for  more details.\n",
            "[[212.65434]]\n"
          ],
          "name": "stdout"
        }
      ]
    },
    {
      "cell_type": "code",
      "metadata": {
        "id": "1xvcgJEmin2n",
        "colab_type": "code",
        "colab": {
          "base_uri": "https://localhost:8080/",
          "height": 34
        },
        "outputId": "aea38f29-7ca5-4960-ea32-0af74df482a6"
      },
      "source": [
        "print('Looking at the layer variable: {}'.format(I0.get_weights()))\n",
        "\n",
        "# These varibales are close to the real variable of {~1.8 and ~32}."
      ],
      "execution_count": 45,
      "outputs": [
        {
          "output_type": "stream",
          "text": [
            "Looking at the layer variable: [array([[1.8361474]], dtype=float32), array([29.0396], dtype=float32)]\n"
          ],
          "name": "stdout"
        }
      ]
    },
    {
      "cell_type": "code",
      "metadata": {
        "id": "9wGoN-Wxjd6E",
        "colab_type": "code",
        "colab": {}
      },
      "source": [
        "# For a single neuron with single input and single output, the internal math looks the same as: y = mx + b and F = 1.8*C + 32 both has the same form.\n",
        "# Since the form is same the variables should converges on the standard values of {1.8 and 32}."
      ],
      "execution_count": 46,
      "outputs": []
    },
    {
      "cell_type": "code",
      "metadata": {
        "id": "91bsdJDTkPK5",
        "colab_type": "code",
        "colab": {
          "base_uri": "https://localhost:8080/",
          "height": 309
        },
        "outputId": "f858ed2f-7344-4fd8-c693-143c47a3cc92"
      },
      "source": [
        "I0 = tf.keras.layers.Dense(units=4, input_shape=[1])\n",
        "I1 = tf.keras.layers.Dense(units=4)\n",
        "I2 = tf.keras.layers.Dense(units=1)\n",
        "\n",
        "model = tf.keras.Sequential([I0,I1,I2])\n",
        "model.compile(loss='mean_squared_error', optimizer=tf.keras.optimizers.Adam(0.1))\n",
        "history = model.fit(celcius_q, fahrenheit_a, epochs=500, verbose=False)\n",
        "print('Finished Training the Model')\n",
        "\n",
        "# Use the model to predict the Values:\n",
        "print(model.predict([100]))\n",
        "\n",
        "print('Model predict that 100 degree Celcius is: {} degree Fahrenheit'.format(model.predict([100.0])))\n",
        "\n",
        "print('These are the I0 variable: {}'.format(I0.get_weights()))\n",
        "print('These are the I1 variable: {}'.format(I1.get_weights()))\n",
        "print('These are the I2 variable: {}'.format(I2.get_weights()))"
      ],
      "execution_count": 47,
      "outputs": [
        {
          "output_type": "stream",
          "text": [
            "Finished Training the Model\n",
            "WARNING:tensorflow:9 out of the last 10 calls to <function Model.make_predict_function.<locals>.predict_function at 0x7ff971a49b70> triggered tf.function retracing. Tracing is expensive and the excessive number of tracings could be due to (1) creating @tf.function repeatedly in a loop, (2) passing tensors with different shapes, (3) passing Python objects instead of tensors. For (1), please define your @tf.function outside of the loop. For (2), @tf.function has experimental_relax_shapes=True option that relaxes argument shapes that can avoid unnecessary retracing. For (3), please refer to https://www.tensorflow.org/tutorials/customization/performance#python_or_tensor_args and https://www.tensorflow.org/api_docs/python/tf/function for  more details.\n",
            "[[212.99704]]\n",
            "WARNING:tensorflow:10 out of the last 11 calls to <function Model.make_predict_function.<locals>.predict_function at 0x7ff971a49b70> triggered tf.function retracing. Tracing is expensive and the excessive number of tracings could be due to (1) creating @tf.function repeatedly in a loop, (2) passing tensors with different shapes, (3) passing Python objects instead of tensors. For (1), please define your @tf.function outside of the loop. For (2), @tf.function has experimental_relax_shapes=True option that relaxes argument shapes that can avoid unnecessary retracing. For (3), please refer to https://www.tensorflow.org/tutorials/customization/performance#python_or_tensor_args and https://www.tensorflow.org/api_docs/python/tf/function for  more details.\n",
            "Model predict that 100 degree Celcius is: [[212.99704]] degree Fahrenheit\n",
            "These are the I0 variable: [array([[-0.13834885,  0.09543214,  0.81316346,  0.09384373]],\n",
            "      dtype=float32), array([-2.8465903,  2.8534105,  3.027602 ,  2.8711753], dtype=float32)]\n",
            "These are the I1 variable: [array([[ 0.74603   ,  1.0176631 ,  0.5191552 , -0.25850052],\n",
            "       [-1.0753603 ,  0.01896824,  0.00846066, -0.08272999],\n",
            "       [-0.86066633, -0.5967088 ,  0.11738463,  0.24823338],\n",
            "       [-0.27023745, -1.1048936 , -0.8541642 , -0.6090164 ]],\n",
            "      dtype=float32), array([-3.0015664, -2.9686322, -2.771042 ,  2.24277  ], dtype=float32)]\n",
            "These are the I2 variable: [array([[-0.9124082 ],\n",
            "       [-1.1669769 ],\n",
            "       [-0.8094881 ],\n",
            "       [ 0.38835642]], dtype=float32), array([2.9419587], dtype=float32)]\n"
          ],
          "name": "stdout"
        }
      ]
    },
    {
      "cell_type": "code",
      "metadata": {
        "id": "efN4sZ72mlIL",
        "colab_type": "code",
        "colab": {}
      },
      "source": [
        "# As you can see the weights variables are changes and they are nothing close to {1.8 and 32} this is due to added complexity which will be dicussed later."
      ],
      "execution_count": 48,
      "outputs": []
    }
  ]
}