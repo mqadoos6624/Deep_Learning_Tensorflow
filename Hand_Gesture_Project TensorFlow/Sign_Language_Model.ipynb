{
  "nbformat": 4,
  "nbformat_minor": 0,
  "metadata": {
    "colab": {
      "name": "Untitled4.ipynb",
      "provenance": [],
      "collapsed_sections": []
    },
    "kernelspec": {
      "name": "python3",
      "display_name": "Python 3"
    }
  },
  "cells": [
    {
      "cell_type": "code",
      "metadata": {
        "id": "-2FVxCv9BcgG",
        "colab_type": "code",
        "colab": {}
      },
      "source": [
        "from google.colab import drive\n",
        "drive.mount('/content/drive/')"
      ],
      "execution_count": null,
      "outputs": []
    },
    {
      "cell_type": "code",
      "metadata": {
        "id": "o5OrkE5NTRKp",
        "colab_type": "code",
        "colab": {}
      },
      "source": [
        "import numpy as np\n",
        "import pandas as pd\n",
        "import os\n",
        "import seaborn as sns\n",
        "import matplotlib.pyplot as plt\n",
        "import keras\n",
        "from keras.models import Sequential\n",
        "from keras.layers import Dense, Conv2D, MaxPooling2D, Flatten, Dropout"
      ],
      "execution_count": 209,
      "outputs": []
    },
    {
      "cell_type": "code",
      "metadata": {
        "id": "i0Wfc7d5TsBl",
        "colab_type": "code",
        "colab": {}
      },
      "source": [
        "path = os.getcwd()\n",
        "mypath = path + \"/\" + \"drive/My Drive/Colab Notebooks/Hand_Gesture\"\n",
        "train_data = pd.read_csv(mypath + '/' + \"sign_mnist_train.csv\")\n",
        "test_data = pd.read_csv(mypath + '/' + \"sign_mnist_test.csv\")"
      ],
      "execution_count": 249,
      "outputs": []
    },
    {
      "cell_type": "code",
      "metadata": {
        "id": "NFi6M1_aUSZF",
        "colab_type": "code",
        "colab": {
          "base_uri": "https://localhost:8080/",
          "height": 68
        },
        "outputId": "84ddafd5-5cb3-4a16-bccf-d4b816c24d9a"
      },
      "source": [
        "print(\"The Shape of Data is:\",train_data.shape, test_data.shape)\n",
        "print(\"Number of Data Sample in Training Data: \", train_data.shape[0])\n",
        "print(\"Number of Data Sample in Test Data: \", test_data.shape[0])"
      ],
      "execution_count": 239,
      "outputs": [
        {
          "output_type": "stream",
          "text": [
            "The Shape of Data is: (27455, 785) (7172, 785)\n",
            "Number of Data Sample in Training Data:  27455\n",
            "Number of Data Sample in Test Data:  7172\n"
          ],
          "name": "stdout"
        }
      ]
    },
    {
      "cell_type": "code",
      "metadata": {
        "id": "OWGB-_JoUWBn",
        "colab_type": "code",
        "colab": {
          "base_uri": "https://localhost:8080/",
          "height": 253
        },
        "outputId": "79d54e99-5b86-4765-9938-8a8e2f91530b"
      },
      "source": [
        "train_data.head()"
      ],
      "execution_count": 212,
      "outputs": [
        {
          "output_type": "execute_result",
          "data": {
            "text/html": [
              "<div>\n",
              "<style scoped>\n",
              "    .dataframe tbody tr th:only-of-type {\n",
              "        vertical-align: middle;\n",
              "    }\n",
              "\n",
              "    .dataframe tbody tr th {\n",
              "        vertical-align: top;\n",
              "    }\n",
              "\n",
              "    .dataframe thead th {\n",
              "        text-align: right;\n",
              "    }\n",
              "</style>\n",
              "<table border=\"1\" class=\"dataframe\">\n",
              "  <thead>\n",
              "    <tr style=\"text-align: right;\">\n",
              "      <th></th>\n",
              "      <th>label</th>\n",
              "      <th>pixel1</th>\n",
              "      <th>pixel2</th>\n",
              "      <th>pixel3</th>\n",
              "      <th>pixel4</th>\n",
              "      <th>pixel5</th>\n",
              "      <th>pixel6</th>\n",
              "      <th>pixel7</th>\n",
              "      <th>pixel8</th>\n",
              "      <th>pixel9</th>\n",
              "      <th>pixel10</th>\n",
              "      <th>pixel11</th>\n",
              "      <th>pixel12</th>\n",
              "      <th>pixel13</th>\n",
              "      <th>pixel14</th>\n",
              "      <th>pixel15</th>\n",
              "      <th>pixel16</th>\n",
              "      <th>pixel17</th>\n",
              "      <th>pixel18</th>\n",
              "      <th>pixel19</th>\n",
              "      <th>pixel20</th>\n",
              "      <th>pixel21</th>\n",
              "      <th>pixel22</th>\n",
              "      <th>pixel23</th>\n",
              "      <th>pixel24</th>\n",
              "      <th>pixel25</th>\n",
              "      <th>pixel26</th>\n",
              "      <th>pixel27</th>\n",
              "      <th>pixel28</th>\n",
              "      <th>pixel29</th>\n",
              "      <th>pixel30</th>\n",
              "      <th>pixel31</th>\n",
              "      <th>pixel32</th>\n",
              "      <th>pixel33</th>\n",
              "      <th>pixel34</th>\n",
              "      <th>pixel35</th>\n",
              "      <th>pixel36</th>\n",
              "      <th>pixel37</th>\n",
              "      <th>pixel38</th>\n",
              "      <th>pixel39</th>\n",
              "      <th>...</th>\n",
              "      <th>pixel745</th>\n",
              "      <th>pixel746</th>\n",
              "      <th>pixel747</th>\n",
              "      <th>pixel748</th>\n",
              "      <th>pixel749</th>\n",
              "      <th>pixel750</th>\n",
              "      <th>pixel751</th>\n",
              "      <th>pixel752</th>\n",
              "      <th>pixel753</th>\n",
              "      <th>pixel754</th>\n",
              "      <th>pixel755</th>\n",
              "      <th>pixel756</th>\n",
              "      <th>pixel757</th>\n",
              "      <th>pixel758</th>\n",
              "      <th>pixel759</th>\n",
              "      <th>pixel760</th>\n",
              "      <th>pixel761</th>\n",
              "      <th>pixel762</th>\n",
              "      <th>pixel763</th>\n",
              "      <th>pixel764</th>\n",
              "      <th>pixel765</th>\n",
              "      <th>pixel766</th>\n",
              "      <th>pixel767</th>\n",
              "      <th>pixel768</th>\n",
              "      <th>pixel769</th>\n",
              "      <th>pixel770</th>\n",
              "      <th>pixel771</th>\n",
              "      <th>pixel772</th>\n",
              "      <th>pixel773</th>\n",
              "      <th>pixel774</th>\n",
              "      <th>pixel775</th>\n",
              "      <th>pixel776</th>\n",
              "      <th>pixel777</th>\n",
              "      <th>pixel778</th>\n",
              "      <th>pixel779</th>\n",
              "      <th>pixel780</th>\n",
              "      <th>pixel781</th>\n",
              "      <th>pixel782</th>\n",
              "      <th>pixel783</th>\n",
              "      <th>pixel784</th>\n",
              "    </tr>\n",
              "  </thead>\n",
              "  <tbody>\n",
              "    <tr>\n",
              "      <th>0</th>\n",
              "      <td>3</td>\n",
              "      <td>107</td>\n",
              "      <td>118</td>\n",
              "      <td>127</td>\n",
              "      <td>134</td>\n",
              "      <td>139</td>\n",
              "      <td>143</td>\n",
              "      <td>146</td>\n",
              "      <td>150</td>\n",
              "      <td>153</td>\n",
              "      <td>156</td>\n",
              "      <td>158</td>\n",
              "      <td>160</td>\n",
              "      <td>163</td>\n",
              "      <td>165</td>\n",
              "      <td>159</td>\n",
              "      <td>166</td>\n",
              "      <td>168</td>\n",
              "      <td>170</td>\n",
              "      <td>170</td>\n",
              "      <td>171</td>\n",
              "      <td>171</td>\n",
              "      <td>171</td>\n",
              "      <td>172</td>\n",
              "      <td>171</td>\n",
              "      <td>171</td>\n",
              "      <td>170</td>\n",
              "      <td>170</td>\n",
              "      <td>169</td>\n",
              "      <td>111</td>\n",
              "      <td>121</td>\n",
              "      <td>129</td>\n",
              "      <td>135</td>\n",
              "      <td>141</td>\n",
              "      <td>144</td>\n",
              "      <td>148</td>\n",
              "      <td>151</td>\n",
              "      <td>154</td>\n",
              "      <td>157</td>\n",
              "      <td>160</td>\n",
              "      <td>...</td>\n",
              "      <td>205</td>\n",
              "      <td>206</td>\n",
              "      <td>206</td>\n",
              "      <td>207</td>\n",
              "      <td>207</td>\n",
              "      <td>206</td>\n",
              "      <td>206</td>\n",
              "      <td>204</td>\n",
              "      <td>205</td>\n",
              "      <td>204</td>\n",
              "      <td>203</td>\n",
              "      <td>202</td>\n",
              "      <td>142</td>\n",
              "      <td>151</td>\n",
              "      <td>160</td>\n",
              "      <td>172</td>\n",
              "      <td>196</td>\n",
              "      <td>188</td>\n",
              "      <td>188</td>\n",
              "      <td>190</td>\n",
              "      <td>135</td>\n",
              "      <td>96</td>\n",
              "      <td>86</td>\n",
              "      <td>77</td>\n",
              "      <td>77</td>\n",
              "      <td>79</td>\n",
              "      <td>176</td>\n",
              "      <td>205</td>\n",
              "      <td>207</td>\n",
              "      <td>207</td>\n",
              "      <td>207</td>\n",
              "      <td>207</td>\n",
              "      <td>207</td>\n",
              "      <td>207</td>\n",
              "      <td>206</td>\n",
              "      <td>206</td>\n",
              "      <td>206</td>\n",
              "      <td>204</td>\n",
              "      <td>203</td>\n",
              "      <td>202</td>\n",
              "    </tr>\n",
              "    <tr>\n",
              "      <th>1</th>\n",
              "      <td>6</td>\n",
              "      <td>155</td>\n",
              "      <td>157</td>\n",
              "      <td>156</td>\n",
              "      <td>156</td>\n",
              "      <td>156</td>\n",
              "      <td>157</td>\n",
              "      <td>156</td>\n",
              "      <td>158</td>\n",
              "      <td>158</td>\n",
              "      <td>157</td>\n",
              "      <td>158</td>\n",
              "      <td>156</td>\n",
              "      <td>154</td>\n",
              "      <td>154</td>\n",
              "      <td>153</td>\n",
              "      <td>152</td>\n",
              "      <td>151</td>\n",
              "      <td>149</td>\n",
              "      <td>149</td>\n",
              "      <td>148</td>\n",
              "      <td>147</td>\n",
              "      <td>146</td>\n",
              "      <td>144</td>\n",
              "      <td>142</td>\n",
              "      <td>143</td>\n",
              "      <td>138</td>\n",
              "      <td>92</td>\n",
              "      <td>108</td>\n",
              "      <td>158</td>\n",
              "      <td>159</td>\n",
              "      <td>159</td>\n",
              "      <td>159</td>\n",
              "      <td>160</td>\n",
              "      <td>160</td>\n",
              "      <td>160</td>\n",
              "      <td>160</td>\n",
              "      <td>160</td>\n",
              "      <td>160</td>\n",
              "      <td>160</td>\n",
              "      <td>...</td>\n",
              "      <td>100</td>\n",
              "      <td>78</td>\n",
              "      <td>120</td>\n",
              "      <td>157</td>\n",
              "      <td>168</td>\n",
              "      <td>107</td>\n",
              "      <td>99</td>\n",
              "      <td>121</td>\n",
              "      <td>133</td>\n",
              "      <td>97</td>\n",
              "      <td>95</td>\n",
              "      <td>120</td>\n",
              "      <td>135</td>\n",
              "      <td>116</td>\n",
              "      <td>95</td>\n",
              "      <td>79</td>\n",
              "      <td>69</td>\n",
              "      <td>86</td>\n",
              "      <td>139</td>\n",
              "      <td>173</td>\n",
              "      <td>200</td>\n",
              "      <td>185</td>\n",
              "      <td>175</td>\n",
              "      <td>198</td>\n",
              "      <td>124</td>\n",
              "      <td>118</td>\n",
              "      <td>94</td>\n",
              "      <td>140</td>\n",
              "      <td>133</td>\n",
              "      <td>84</td>\n",
              "      <td>69</td>\n",
              "      <td>149</td>\n",
              "      <td>128</td>\n",
              "      <td>87</td>\n",
              "      <td>94</td>\n",
              "      <td>163</td>\n",
              "      <td>175</td>\n",
              "      <td>103</td>\n",
              "      <td>135</td>\n",
              "      <td>149</td>\n",
              "    </tr>\n",
              "    <tr>\n",
              "      <th>2</th>\n",
              "      <td>2</td>\n",
              "      <td>187</td>\n",
              "      <td>188</td>\n",
              "      <td>188</td>\n",
              "      <td>187</td>\n",
              "      <td>187</td>\n",
              "      <td>186</td>\n",
              "      <td>187</td>\n",
              "      <td>188</td>\n",
              "      <td>187</td>\n",
              "      <td>186</td>\n",
              "      <td>185</td>\n",
              "      <td>185</td>\n",
              "      <td>185</td>\n",
              "      <td>184</td>\n",
              "      <td>184</td>\n",
              "      <td>184</td>\n",
              "      <td>181</td>\n",
              "      <td>181</td>\n",
              "      <td>179</td>\n",
              "      <td>179</td>\n",
              "      <td>179</td>\n",
              "      <td>178</td>\n",
              "      <td>178</td>\n",
              "      <td>109</td>\n",
              "      <td>52</td>\n",
              "      <td>66</td>\n",
              "      <td>77</td>\n",
              "      <td>83</td>\n",
              "      <td>188</td>\n",
              "      <td>189</td>\n",
              "      <td>189</td>\n",
              "      <td>188</td>\n",
              "      <td>188</td>\n",
              "      <td>189</td>\n",
              "      <td>188</td>\n",
              "      <td>188</td>\n",
              "      <td>188</td>\n",
              "      <td>188</td>\n",
              "      <td>187</td>\n",
              "      <td>...</td>\n",
              "      <td>203</td>\n",
              "      <td>204</td>\n",
              "      <td>203</td>\n",
              "      <td>201</td>\n",
              "      <td>200</td>\n",
              "      <td>200</td>\n",
              "      <td>199</td>\n",
              "      <td>198</td>\n",
              "      <td>196</td>\n",
              "      <td>195</td>\n",
              "      <td>194</td>\n",
              "      <td>193</td>\n",
              "      <td>198</td>\n",
              "      <td>166</td>\n",
              "      <td>132</td>\n",
              "      <td>114</td>\n",
              "      <td>89</td>\n",
              "      <td>74</td>\n",
              "      <td>79</td>\n",
              "      <td>77</td>\n",
              "      <td>74</td>\n",
              "      <td>78</td>\n",
              "      <td>132</td>\n",
              "      <td>188</td>\n",
              "      <td>210</td>\n",
              "      <td>209</td>\n",
              "      <td>206</td>\n",
              "      <td>205</td>\n",
              "      <td>204</td>\n",
              "      <td>203</td>\n",
              "      <td>202</td>\n",
              "      <td>201</td>\n",
              "      <td>200</td>\n",
              "      <td>199</td>\n",
              "      <td>198</td>\n",
              "      <td>199</td>\n",
              "      <td>198</td>\n",
              "      <td>195</td>\n",
              "      <td>194</td>\n",
              "      <td>195</td>\n",
              "    </tr>\n",
              "    <tr>\n",
              "      <th>3</th>\n",
              "      <td>2</td>\n",
              "      <td>211</td>\n",
              "      <td>211</td>\n",
              "      <td>212</td>\n",
              "      <td>212</td>\n",
              "      <td>211</td>\n",
              "      <td>210</td>\n",
              "      <td>211</td>\n",
              "      <td>210</td>\n",
              "      <td>210</td>\n",
              "      <td>211</td>\n",
              "      <td>209</td>\n",
              "      <td>207</td>\n",
              "      <td>208</td>\n",
              "      <td>207</td>\n",
              "      <td>206</td>\n",
              "      <td>203</td>\n",
              "      <td>202</td>\n",
              "      <td>201</td>\n",
              "      <td>200</td>\n",
              "      <td>198</td>\n",
              "      <td>197</td>\n",
              "      <td>195</td>\n",
              "      <td>192</td>\n",
              "      <td>197</td>\n",
              "      <td>171</td>\n",
              "      <td>51</td>\n",
              "      <td>52</td>\n",
              "      <td>54</td>\n",
              "      <td>212</td>\n",
              "      <td>213</td>\n",
              "      <td>215</td>\n",
              "      <td>215</td>\n",
              "      <td>212</td>\n",
              "      <td>212</td>\n",
              "      <td>213</td>\n",
              "      <td>212</td>\n",
              "      <td>212</td>\n",
              "      <td>211</td>\n",
              "      <td>211</td>\n",
              "      <td>...</td>\n",
              "      <td>247</td>\n",
              "      <td>242</td>\n",
              "      <td>233</td>\n",
              "      <td>231</td>\n",
              "      <td>230</td>\n",
              "      <td>229</td>\n",
              "      <td>227</td>\n",
              "      <td>225</td>\n",
              "      <td>223</td>\n",
              "      <td>221</td>\n",
              "      <td>220</td>\n",
              "      <td>216</td>\n",
              "      <td>58</td>\n",
              "      <td>51</td>\n",
              "      <td>49</td>\n",
              "      <td>50</td>\n",
              "      <td>57</td>\n",
              "      <td>60</td>\n",
              "      <td>17</td>\n",
              "      <td>15</td>\n",
              "      <td>18</td>\n",
              "      <td>17</td>\n",
              "      <td>19</td>\n",
              "      <td>1</td>\n",
              "      <td>159</td>\n",
              "      <td>255</td>\n",
              "      <td>237</td>\n",
              "      <td>239</td>\n",
              "      <td>237</td>\n",
              "      <td>236</td>\n",
              "      <td>235</td>\n",
              "      <td>234</td>\n",
              "      <td>233</td>\n",
              "      <td>231</td>\n",
              "      <td>230</td>\n",
              "      <td>226</td>\n",
              "      <td>225</td>\n",
              "      <td>222</td>\n",
              "      <td>229</td>\n",
              "      <td>163</td>\n",
              "    </tr>\n",
              "    <tr>\n",
              "      <th>4</th>\n",
              "      <td>13</td>\n",
              "      <td>164</td>\n",
              "      <td>167</td>\n",
              "      <td>170</td>\n",
              "      <td>172</td>\n",
              "      <td>176</td>\n",
              "      <td>179</td>\n",
              "      <td>180</td>\n",
              "      <td>184</td>\n",
              "      <td>185</td>\n",
              "      <td>186</td>\n",
              "      <td>188</td>\n",
              "      <td>189</td>\n",
              "      <td>189</td>\n",
              "      <td>190</td>\n",
              "      <td>191</td>\n",
              "      <td>189</td>\n",
              "      <td>190</td>\n",
              "      <td>190</td>\n",
              "      <td>187</td>\n",
              "      <td>190</td>\n",
              "      <td>192</td>\n",
              "      <td>193</td>\n",
              "      <td>191</td>\n",
              "      <td>191</td>\n",
              "      <td>192</td>\n",
              "      <td>192</td>\n",
              "      <td>194</td>\n",
              "      <td>194</td>\n",
              "      <td>166</td>\n",
              "      <td>169</td>\n",
              "      <td>172</td>\n",
              "      <td>174</td>\n",
              "      <td>177</td>\n",
              "      <td>180</td>\n",
              "      <td>182</td>\n",
              "      <td>185</td>\n",
              "      <td>186</td>\n",
              "      <td>187</td>\n",
              "      <td>190</td>\n",
              "      <td>...</td>\n",
              "      <td>90</td>\n",
              "      <td>77</td>\n",
              "      <td>88</td>\n",
              "      <td>117</td>\n",
              "      <td>123</td>\n",
              "      <td>127</td>\n",
              "      <td>129</td>\n",
              "      <td>134</td>\n",
              "      <td>145</td>\n",
              "      <td>152</td>\n",
              "      <td>156</td>\n",
              "      <td>179</td>\n",
              "      <td>105</td>\n",
              "      <td>106</td>\n",
              "      <td>105</td>\n",
              "      <td>104</td>\n",
              "      <td>104</td>\n",
              "      <td>104</td>\n",
              "      <td>175</td>\n",
              "      <td>199</td>\n",
              "      <td>178</td>\n",
              "      <td>152</td>\n",
              "      <td>136</td>\n",
              "      <td>130</td>\n",
              "      <td>136</td>\n",
              "      <td>150</td>\n",
              "      <td>118</td>\n",
              "      <td>92</td>\n",
              "      <td>85</td>\n",
              "      <td>76</td>\n",
              "      <td>92</td>\n",
              "      <td>105</td>\n",
              "      <td>105</td>\n",
              "      <td>108</td>\n",
              "      <td>133</td>\n",
              "      <td>163</td>\n",
              "      <td>157</td>\n",
              "      <td>163</td>\n",
              "      <td>164</td>\n",
              "      <td>179</td>\n",
              "    </tr>\n",
              "  </tbody>\n",
              "</table>\n",
              "<p>5 rows × 785 columns</p>\n",
              "</div>"
            ],
            "text/plain": [
              "   label  pixel1  pixel2  pixel3  ...  pixel781  pixel782  pixel783  pixel784\n",
              "0      3     107     118     127  ...       206       204       203       202\n",
              "1      6     155     157     156  ...       175       103       135       149\n",
              "2      2     187     188     188  ...       198       195       194       195\n",
              "3      2     211     211     212  ...       225       222       229       163\n",
              "4     13     164     167     170  ...       157       163       164       179\n",
              "\n",
              "[5 rows x 785 columns]"
            ]
          },
          "metadata": {
            "tags": []
          },
          "execution_count": 212
        }
      ]
    },
    {
      "cell_type": "code",
      "metadata": {
        "id": "oFsNxvLgU5uv",
        "colab_type": "code",
        "colab": {
          "base_uri": "https://localhost:8080/",
          "height": 34
        },
        "outputId": "593be1c1-8e59-4481-db0d-2e9b0a984478"
      },
      "source": [
        "labels = train_data['label'].values\n",
        "\n",
        "# OR\n",
        "\n",
        "# train_data_labels = train_data.iloc[:,0]\n",
        "# train_data_images = train_data.iloc[:,1:]\n",
        "\n",
        "# train_data_images = np.array(train_data_images)\n",
        "# train_data_labels = np.array(train_data_labels)\n",
        "\n",
        "labels"
      ],
      "execution_count": 213,
      "outputs": [
        {
          "output_type": "execute_result",
          "data": {
            "text/plain": [
              "array([ 3,  6,  2, ..., 18, 17, 23])"
            ]
          },
          "metadata": {
            "tags": []
          },
          "execution_count": 213
        }
      ]
    },
    {
      "cell_type": "markdown",
      "metadata": {
        "id": "7CecjpABVIL8",
        "colab_type": "text"
      },
      "source": [
        "The data set is given in the form of labels and pixel value ranging from pixel 1 to pixel 784 which is 28 * 28 image.\n",
        "\n",
        "Let's see what does each sign means"
      ]
    },
    {
      "cell_type": "code",
      "metadata": {
        "id": "jwJRx8tnVDM4",
        "colab_type": "code",
        "colab": {
          "base_uri": "https://localhost:8080/",
          "height": 51
        },
        "outputId": "282b5d13-0266-4048-f49e-250c9442b7d1"
      },
      "source": [
        "unique_val = np.array(labels)\n",
        "np.unique(unique_val)"
      ],
      "execution_count": 214,
      "outputs": [
        {
          "output_type": "execute_result",
          "data": {
            "text/plain": [
              "array([ 0,  1,  2,  3,  4,  5,  6,  7,  8, 10, 11, 12, 13, 14, 15, 16, 17,\n",
              "       18, 19, 20, 21, 22, 23, 24])"
            ]
          },
          "metadata": {
            "tags": []
          },
          "execution_count": 214
        }
      ]
    },
    {
      "cell_type": "markdown",
      "metadata": {
        "id": "-z8Q8JlSVlGc",
        "colab_type": "text"
      },
      "source": [
        "Each letter indicates a sign produced by our fingers. We will apply deep learning to these images to make sure our model can understand what sign indicated what letter"
      ]
    },
    {
      "cell_type": "markdown",
      "metadata": {
        "id": "-KeqB3MqVpNP",
        "colab_type": "text"
      },
      "source": [
        "## **Data Exploration:**"
      ]
    },
    {
      "cell_type": "code",
      "metadata": {
        "id": "lGz1MQtYVUo1",
        "colab_type": "code",
        "colab": {
          "base_uri": "https://localhost:8080/",
          "height": 586
        },
        "outputId": "bab997b1-6865-49c9-efe5-5c03bc75f8f5"
      },
      "source": [
        "plt.figure(figsize=(18,10))\n",
        "sns.countplot(x=labels)"
      ],
      "execution_count": 215,
      "outputs": [
        {
          "output_type": "execute_result",
          "data": {
            "text/plain": [
              "<matplotlib.axes._subplots.AxesSubplot at 0x7f649d1e9a58>"
            ]
          },
          "metadata": {
            "tags": []
          },
          "execution_count": 215
        },
        {
          "output_type": "display_data",
          "data": {
            "image/png": "[encoded data removed]",
            "text/plain": [
              "<Figure size 1296x720 with 1 Axes>"
            ]
          },
          "metadata": {
            "tags": [],
            "needs_background": "light"
          }
        }
      ]
    },
    {
      "cell_type": "markdown",
      "metadata": {
        "id": "h2RXmCPsVwfO",
        "colab_type": "text"
      },
      "source": [
        "The above plot shows the frequency of the number of labels which is a histogram (shows the distribution of labels). We can see that each one is almost equally distibuted."
      ]
    },
    {
      "cell_type": "code",
      "metadata": {
        "id": "4j4ubW3iVcjs",
        "colab_type": "code",
        "colab": {}
      },
      "source": [
        "train_data.drop('label', axis=1, inplace=True)"
      ],
      "execution_count": 216,
      "outputs": []
    },
    {
      "cell_type": "markdown",
      "metadata": {
        "id": "LnY93f7oV73X",
        "colab_type": "text"
      },
      "source": [
        "We are droping the label column from the training set.\n",
        "\n",
        "## **Reshaping the Image.**"
      ]
    },
    {
      "cell_type": "code",
      "metadata": {
        "id": "mkoF1oeIV2N6",
        "colab_type": "code",
        "colab": {}
      },
      "source": [
        "images = train_data.values\n",
        "images = np.array([np.reshape(i, (28,28)) for i in images])\n",
        "images = np.array([i.flatten() for i in images])"
      ],
      "execution_count": null,
      "outputs": []
    },
    {
      "cell_type": "markdown",
      "metadata": {
        "id": "SQzyRev-WHW3",
        "colab_type": "text"
      },
      "source": [
        "Since our target variable are in categorical(nomial) so we are using label binarizer"
      ]
    },
    {
      "cell_type": "code",
      "metadata": {
        "id": "lxBpNMD9WC53",
        "colab_type": "code",
        "colab": {}
      },
      "source": [
        "from sklearn.preprocessing import LabelBinarizer\n",
        "label_binarizer = LabelBinarizer()\n",
        "labels = label_binarizer.fit_transform(labels)"
      ],
      "execution_count": 218,
      "outputs": []
    },
    {
      "cell_type": "markdown",
      "metadata": {
        "id": "B_048oFTXBnQ",
        "colab_type": "text"
      },
      "source": [
        "Lets see how the Image Look like:"
      ]
    },
    {
      "cell_type": "code",
      "metadata": {
        "id": "YjCzlSE7Wpsr",
        "colab_type": "code",
        "colab": {
          "base_uri": "https://localhost:8080/",
          "height": 282
        },
        "outputId": "774ee0a5-d430-4733-c785-16e91bfc10e8"
      },
      "source": [
        "plt.imshow(images[0].reshape((28,28)))"
      ],
      "execution_count": 220,
      "outputs": [
        {
          "output_type": "execute_result",
          "data": {
            "text/plain": [
              "<matplotlib.image.AxesImage at 0x7f649cff7cc0>"
            ]
          },
          "metadata": {
            "tags": []
          },
          "execution_count": 220
        },
        {
          "output_type": "display_data",
          "data": {
            "image/png": "[encoded data removed]",
            "text/plain": [
              "<Figure size 432x288 with 1 Axes>"
            ]
          },
          "metadata": {
            "tags": [],
            "needs_background": "light"
          }
        }
      ]
    },
    {
      "cell_type": "markdown",
      "metadata": {
        "id": "dNomET4FXFNa",
        "colab_type": "text"
      },
      "source": [
        "Spliting the training dataset into train(70%) and test(30%) for validation"
      ]
    },
    {
      "cell_type": "code",
      "metadata": {
        "id": "odKronOhXCVS",
        "colab_type": "code",
        "colab": {}
      },
      "source": [
        "from sklearn.model_selection import train_test_split\n",
        "x_train, x_test, y_train, y_test = train_test_split(images, labels, test_size = 0.3, random_state = 101)"
      ],
      "execution_count": 221,
      "outputs": []
    },
    {
      "cell_type": "markdown",
      "metadata": {
        "id": "YId_3RVdXSOp",
        "colab_type": "text"
      },
      "source": [
        "For deep learning i am using keras library"
      ]
    },
    {
      "cell_type": "markdown",
      "metadata": {
        "id": "TIzZsgr4XXlf",
        "colab_type": "text"
      },
      "source": [
        "Creating the batch size to 128 and using 50 epochs"
      ]
    },
    {
      "cell_type": "code",
      "metadata": {
        "id": "3ps4FEPbXQOm",
        "colab_type": "code",
        "colab": {}
      },
      "source": [
        "batch_size = 128\n",
        "num_classes = 24\n",
        "epochs = 50"
      ],
      "execution_count": 222,
      "outputs": []
    },
    {
      "cell_type": "markdown",
      "metadata": {
        "id": "t07WZwgVXfQp",
        "colab_type": "text"
      },
      "source": [
        "Normalizing the training and test data"
      ]
    },
    {
      "cell_type": "code",
      "metadata": {
        "id": "Kv5UncsXXU8o",
        "colab_type": "code",
        "colab": {}
      },
      "source": [
        "x_train = x_train / 255\n",
        "x_test = x_test / 255"
      ],
      "execution_count": 223,
      "outputs": []
    },
    {
      "cell_type": "code",
      "metadata": {
        "id": "A10FqdHjXguu",
        "colab_type": "code",
        "colab": {}
      },
      "source": [
        "x_train = x_train.reshape(x_train.shape[0], 28, 28, 1)"
      ],
      "execution_count": 224,
      "outputs": []
    },
    {
      "cell_type": "code",
      "metadata": {
        "id": "G6--WXmYXiuz",
        "colab_type": "code",
        "colab": {}
      },
      "source": [
        "x_test = x_test.reshape(x_test.shape[0], 28, 28, 1)"
      ],
      "execution_count": 225,
      "outputs": []
    },
    {
      "cell_type": "markdown",
      "metadata": {
        "id": "2av2TNxaXmAP",
        "colab_type": "text"
      },
      "source": [
        "Visualizing the image after normalizing"
      ]
    },
    {
      "cell_type": "code",
      "metadata": {
        "id": "t9hbN-K2XkH3",
        "colab_type": "code",
        "colab": {
          "base_uri": "https://localhost:8080/",
          "height": 282
        },
        "outputId": "540f6e55-986d-45f7-ffbf-267c462296d4"
      },
      "source": [
        "plt.imshow(x_train[0].reshape(28,28))"
      ],
      "execution_count": 226,
      "outputs": [
        {
          "output_type": "execute_result",
          "data": {
            "text/plain": [
              "<matplotlib.image.AxesImage at 0x7f649d0ee208>"
            ]
          },
          "metadata": {
            "tags": []
          },
          "execution_count": 226
        },
        {
          "output_type": "display_data",
          "data": {
            "image/png": "[encoded data removed]",
            "text/plain": [
              "<Figure size 432x288 with 1 Axes>"
            ]
          },
          "metadata": {
            "tags": [],
            "needs_background": "light"
          }
        }
      ]
    },
    {
      "cell_type": "markdown",
      "metadata": {
        "id": "FoUdZWiCXrQM",
        "colab_type": "text"
      },
      "source": [
        "## **CNN Model:**"
      ]
    },
    {
      "cell_type": "code",
      "metadata": {
        "id": "8ZYOxh8NXnps",
        "colab_type": "code",
        "colab": {}
      },
      "source": [
        "model = Sequential()\n",
        "model.add(Conv2D(filters=64, kernel_size=(3,3), padding='same',activation='relu',input_shape=(28,28,1)))\n",
        "model.add(MaxPooling2D(pool_size=(2,2)))\n",
        "\n",
        "model.add(Conv2D(filters=64, kernel_size=(3,3),activation='relu'))\n",
        "model.add(MaxPooling2D(pool_size=(2,2)))\n",
        "\n",
        "model.add(Conv2D(filters=64, kernel_size=(3,3),activation='relu'))\n",
        "model.add(MaxPooling2D(pool_size=(2,2)))\n",
        "\n",
        "model.add(Flatten())\n",
        "model.add(Dense(128, activation='relu'))\n",
        "model.add(Dropout(0.20))\n",
        "\n",
        "model.add(Dense(num_classes, activation='softmax'))"
      ],
      "execution_count": 42,
      "outputs": []
    },
    {
      "cell_type": "code",
      "metadata": {
        "id": "q33YzHjjZH7a",
        "colab_type": "code",
        "colab": {}
      },
      "source": [
        "model.compile(loss=keras.losses.categorical_crossentropy, optimizer=keras.optimizers.Adam(), metrics=['accuracy'])"
      ],
      "execution_count": 43,
      "outputs": []
    },
    {
      "cell_type": "code",
      "metadata": {
        "id": "d-TCQzhsZbcZ",
        "colab_type": "code",
        "colab": {
          "base_uri": "https://localhost:8080/",
          "height": 1000
        },
        "outputId": "ed767fc2-74ba-4a0d-af6f-ff4b926901c5"
      },
      "source": [
        "history = model.fit(x_train,y_train, validation_data= (x_test,y_test), epochs=epochs, batch_size=batch_size)"
      ],
      "execution_count": 44,
      "outputs": [
        {
          "output_type": "stream",
          "text": [
            "Epoch 1/50\n",
            "151/151 [==============================] - 31s 203ms/step - loss: 2.2090 - accuracy: 0.3263 - val_loss: 0.7878 - val_accuracy: 0.7652\n",
            "Epoch 2/50\n",
            "151/151 [==============================] - 31s 206ms/step - loss: 0.5854 - accuracy: 0.8055 - val_loss: 0.2380 - val_accuracy: 0.9350\n",
            "Epoch 3/50\n",
            "151/151 [==============================] - 31s 207ms/step - loss: 0.2231 - accuracy: 0.9280 - val_loss: 0.0796 - val_accuracy: 0.9868\n",
            "Epoch 4/50\n",
            "151/151 [==============================] - 31s 208ms/step - loss: 0.1100 - accuracy: 0.9677 - val_loss: 0.0256 - val_accuracy: 0.9985\n",
            "Epoch 5/50\n",
            "151/151 [==============================] - 31s 207ms/step - loss: 0.0587 - accuracy: 0.9846 - val_loss: 0.0124 - val_accuracy: 0.9995\n",
            "Epoch 6/50\n",
            "151/151 [==============================] - 31s 207ms/step - loss: 0.0339 - accuracy: 0.9915 - val_loss: 0.0066 - val_accuracy: 0.9995\n",
            "Epoch 7/50\n",
            "151/151 [==============================] - 31s 208ms/step - loss: 0.0251 - accuracy: 0.9937 - val_loss: 0.0038 - val_accuracy: 0.9999\n",
            "Epoch 8/50\n",
            "151/151 [==============================] - 31s 208ms/step - loss: 0.0200 - accuracy: 0.9947 - val_loss: 0.0037 - val_accuracy: 0.9998\n",
            "Epoch 9/50\n",
            "151/151 [==============================] - 31s 208ms/step - loss: 0.0161 - accuracy: 0.9959 - val_loss: 0.0020 - val_accuracy: 0.9998\n",
            "Epoch 10/50\n",
            "151/151 [==============================] - 31s 208ms/step - loss: 0.0146 - accuracy: 0.9958 - val_loss: 0.0019 - val_accuracy: 0.9999\n",
            "Epoch 11/50\n",
            "151/151 [==============================] - 31s 208ms/step - loss: 0.0125 - accuracy: 0.9969 - val_loss: 0.0012 - val_accuracy: 1.0000\n",
            "Epoch 12/50\n",
            "151/151 [==============================] - 31s 208ms/step - loss: 0.0151 - accuracy: 0.9955 - val_loss: 5.6862e-04 - val_accuracy: 1.0000\n",
            "Epoch 13/50\n",
            "151/151 [==============================] - 32s 209ms/step - loss: 0.0151 - accuracy: 0.9953 - val_loss: 0.0024 - val_accuracy: 1.0000\n",
            "Epoch 14/50\n",
            "151/151 [==============================] - 32s 209ms/step - loss: 0.0056 - accuracy: 0.9986 - val_loss: 4.9622e-04 - val_accuracy: 1.0000\n",
            "Epoch 15/50\n",
            "151/151 [==============================] - 32s 209ms/step - loss: 0.0058 - accuracy: 0.9986 - val_loss: 0.0010 - val_accuracy: 1.0000\n",
            "Epoch 16/50\n",
            "151/151 [==============================] - 31s 209ms/step - loss: 0.0041 - accuracy: 0.9990 - val_loss: 2.7326e-04 - val_accuracy: 1.0000\n",
            "Epoch 17/50\n",
            "151/151 [==============================] - 31s 209ms/step - loss: 0.0064 - accuracy: 0.9983 - val_loss: 0.0058 - val_accuracy: 0.9987\n",
            "Epoch 18/50\n",
            "151/151 [==============================] - 31s 208ms/step - loss: 0.0099 - accuracy: 0.9973 - val_loss: 0.0030 - val_accuracy: 0.9992\n",
            "Epoch 19/50\n",
            "151/151 [==============================] - 31s 208ms/step - loss: 0.0085 - accuracy: 0.9971 - val_loss: 0.0014 - val_accuracy: 0.9998\n",
            "Epoch 20/50\n",
            "151/151 [==============================] - 31s 208ms/step - loss: 0.0073 - accuracy: 0.9979 - val_loss: 8.0933e-04 - val_accuracy: 0.9999\n",
            "Epoch 21/50\n",
            "151/151 [==============================] - 31s 208ms/step - loss: 0.0046 - accuracy: 0.9990 - val_loss: 0.0016 - val_accuracy: 0.9992\n",
            "Epoch 22/50\n",
            "151/151 [==============================] - 31s 208ms/step - loss: 0.0045 - accuracy: 0.9985 - val_loss: 7.5923e-04 - val_accuracy: 0.9999\n",
            "Epoch 23/50\n",
            "151/151 [==============================] - 32s 209ms/step - loss: 0.0084 - accuracy: 0.9975 - val_loss: 6.2923e-04 - val_accuracy: 0.9999\n",
            "Epoch 24/50\n",
            "151/151 [==============================] - 31s 208ms/step - loss: 0.0017 - accuracy: 0.9995 - val_loss: 2.6489e-04 - val_accuracy: 1.0000\n",
            "Epoch 25/50\n",
            "151/151 [==============================] - 31s 208ms/step - loss: 0.0065 - accuracy: 0.9979 - val_loss: 2.2327e-04 - val_accuracy: 1.0000\n",
            "Epoch 26/50\n",
            "151/151 [==============================] - 31s 208ms/step - loss: 0.0053 - accuracy: 0.9983 - val_loss: 3.0325e-04 - val_accuracy: 0.9999\n",
            "Epoch 27/50\n",
            "151/151 [==============================] - 31s 207ms/step - loss: 0.0042 - accuracy: 0.9986 - val_loss: 3.7460e-04 - val_accuracy: 1.0000\n",
            "Epoch 28/50\n",
            "151/151 [==============================] - 31s 208ms/step - loss: 0.0047 - accuracy: 0.9983 - val_loss: 3.9769e-04 - val_accuracy: 1.0000\n",
            "Epoch 29/50\n",
            "151/151 [==============================] - 31s 207ms/step - loss: 0.0113 - accuracy: 0.9963 - val_loss: 0.0018 - val_accuracy: 0.9996\n",
            "Epoch 30/50\n",
            "151/151 [==============================] - 31s 207ms/step - loss: 0.0056 - accuracy: 0.9983 - val_loss: 9.3795e-04 - val_accuracy: 0.9996\n",
            "Epoch 31/50\n",
            "151/151 [==============================] - 31s 207ms/step - loss: 0.0026 - accuracy: 0.9991 - val_loss: 1.9908e-04 - val_accuracy: 0.9999\n",
            "Epoch 32/50\n",
            "151/151 [==============================] - 31s 207ms/step - loss: 0.0063 - accuracy: 0.9978 - val_loss: 0.0012 - val_accuracy: 0.9995\n",
            "Epoch 33/50\n",
            "151/151 [==============================] - 31s 208ms/step - loss: 0.0108 - accuracy: 0.9963 - val_loss: 4.2161e-04 - val_accuracy: 0.9999\n",
            "Epoch 34/50\n",
            "151/151 [==============================] - 31s 207ms/step - loss: 0.0026 - accuracy: 0.9994 - val_loss: 1.3992e-04 - val_accuracy: 1.0000\n",
            "Epoch 35/50\n",
            "151/151 [==============================] - 31s 207ms/step - loss: 0.0069 - accuracy: 0.9982 - val_loss: 0.0073 - val_accuracy: 0.9977\n",
            "Epoch 36/50\n",
            "151/151 [==============================] - 31s 207ms/step - loss: 0.0011 - accuracy: 0.9998 - val_loss: 2.8952e-04 - val_accuracy: 0.9999\n",
            "Epoch 37/50\n",
            "151/151 [==============================] - 31s 207ms/step - loss: 6.0443e-04 - accuracy: 0.9999 - val_loss: 1.1406e-05 - val_accuracy: 1.0000\n",
            "Epoch 38/50\n",
            "151/151 [==============================] - 31s 208ms/step - loss: 0.0024 - accuracy: 0.9992 - val_loss: 2.4613e-05 - val_accuracy: 1.0000\n",
            "Epoch 39/50\n",
            "151/151 [==============================] - 31s 208ms/step - loss: 0.0021 - accuracy: 0.9992 - val_loss: 9.2060e-05 - val_accuracy: 1.0000\n",
            "Epoch 40/50\n",
            "151/151 [==============================] - 31s 207ms/step - loss: 0.0068 - accuracy: 0.9976 - val_loss: 9.5407e-04 - val_accuracy: 0.9999\n",
            "Epoch 41/50\n",
            "151/151 [==============================] - 31s 207ms/step - loss: 0.0038 - accuracy: 0.9985 - val_loss: 3.5752e-04 - val_accuracy: 1.0000\n",
            "Epoch 42/50\n",
            "151/151 [==============================] - 31s 206ms/step - loss: 0.0027 - accuracy: 0.9993 - val_loss: 9.2828e-05 - val_accuracy: 1.0000\n",
            "Epoch 43/50\n",
            "151/151 [==============================] - 31s 207ms/step - loss: 0.0068 - accuracy: 0.9978 - val_loss: 9.5071e-04 - val_accuracy: 1.0000\n",
            "Epoch 44/50\n",
            "151/151 [==============================] - 31s 206ms/step - loss: 0.0015 - accuracy: 0.9997 - val_loss: 4.4735e-05 - val_accuracy: 1.0000\n",
            "Epoch 45/50\n",
            "151/151 [==============================] - 31s 206ms/step - loss: 0.0022 - accuracy: 0.9992 - val_loss: 1.5564e-04 - val_accuracy: 1.0000\n",
            "Epoch 46/50\n",
            "151/151 [==============================] - 31s 206ms/step - loss: 0.0075 - accuracy: 0.9975 - val_loss: 3.3350e-04 - val_accuracy: 1.0000\n",
            "Epoch 47/50\n",
            "151/151 [==============================] - 31s 206ms/step - loss: 0.0019 - accuracy: 0.9994 - val_loss: 3.3891e-05 - val_accuracy: 1.0000\n",
            "Epoch 48/50\n",
            "151/151 [==============================] - 31s 206ms/step - loss: 0.0015 - accuracy: 0.9996 - val_loss: 7.0607e-05 - val_accuracy: 1.0000\n",
            "Epoch 49/50\n",
            "151/151 [==============================] - 31s 206ms/step - loss: 0.0012 - accuracy: 0.9997 - val_loss: 6.0432e-05 - val_accuracy: 1.0000\n",
            "Epoch 50/50\n",
            "151/151 [==============================] - 31s 207ms/step - loss: 0.0012 - accuracy: 0.9996 - val_loss: 3.0174e-04 - val_accuracy: 1.0000\n"
          ],
          "name": "stdout"
        }
      ]
    },
    {
      "cell_type": "markdown",
      "metadata": {
        "id": "y1h0A40GZ_Fj",
        "colab_type": "text"
      },
      "source": [
        "As you can see, the number of epochs increase the accuracy also increases."
      ]
    },
    {
      "cell_type": "code",
      "metadata": {
        "id": "TbEl_zwckTOE",
        "colab_type": "code",
        "colab": {
          "base_uri": "https://localhost:8080/",
          "height": 34
        },
        "outputId": "15b63427-59a5-49cb-96f7-ffd9ce782f25"
      },
      "source": [
        "len(history.history['accuracy'])"
      ],
      "execution_count": 227,
      "outputs": [
        {
          "output_type": "execute_result",
          "data": {
            "text/plain": [
              "50"
            ]
          },
          "metadata": {
            "tags": []
          },
          "execution_count": 227
        }
      ]
    },
    {
      "cell_type": "code",
      "metadata": {
        "id": "5XBCxCXLkRBM",
        "colab_type": "code",
        "colab": {
          "base_uri": "https://localhost:8080/",
          "height": 295
        },
        "outputId": "757b8d57-1a73-45ea-8139-966f95f2ffb5"
      },
      "source": [
        "plt.plot(history.history['accuracy'])\n",
        "plt.plot(history.history['val_accuracy'])\n",
        "plt.title(\"Accuracy\")\n",
        "plt.xlabel('epoch')\n",
        "plt.ylabel('accuracy')\n",
        "plt.legend(['train','test'])\n",
        "\n",
        "plt.show()"
      ],
      "execution_count": 228,
      "outputs": [
        {
          "output_type": "display_data",
          "data": {
            "image/png": "[encoded data removed]",
            "text/plain": [
              "<Figure size 432x288 with 1 Axes>"
            ]
          },
          "metadata": {
            "tags": [],
            "needs_background": "light"
          }
        }
      ]
    },
    {
      "cell_type": "markdown",
      "metadata": {
        "id": "JgykTXULgCvG",
        "colab_type": "text"
      },
      "source": [
        "# Saving the model to disk:"
      ]
    },
    {
      "cell_type": "code",
      "metadata": {
        "id": "sWsjSPcAf-hn",
        "colab_type": "code",
        "colab": {}
      },
      "source": [
        "# import pickle\n",
        "# pickle.dump(model, open('model.pkl','wb'))"
      ],
      "execution_count": 240,
      "outputs": []
    },
    {
      "cell_type": "markdown",
      "metadata": {
        "id": "qFmVUzSjaBbC",
        "colab_type": "text"
      },
      "source": [
        "Let's validate with the test data"
      ]
    },
    {
      "cell_type": "code",
      "metadata": {
        "id": "rzgOA2pnZv78",
        "colab_type": "code",
        "colab": {}
      },
      "source": [
        "test_labels = test_data['label']"
      ],
      "execution_count": 250,
      "outputs": []
    },
    {
      "cell_type": "code",
      "metadata": {
        "id": "HtdhWIWJaGz6",
        "colab_type": "code",
        "colab": {}
      },
      "source": [
        "test_data.drop('label', axis = 1, inplace = True)"
      ],
      "execution_count": 251,
      "outputs": []
    },
    {
      "cell_type": "code",
      "metadata": {
        "id": "27Iijh-JW0W_",
        "colab_type": "code",
        "colab": {
          "base_uri": "https://localhost:8080/",
          "height": 34
        },
        "outputId": "5979109f-a76d-491d-ba45-acd642b029fd"
      },
      "source": [
        "test_data.shape"
      ],
      "execution_count": 252,
      "outputs": [
        {
          "output_type": "execute_result",
          "data": {
            "text/plain": [
              "(7172, 784)"
            ]
          },
          "metadata": {
            "tags": []
          },
          "execution_count": 252
        }
      ]
    },
    {
      "cell_type": "code",
      "metadata": {
        "id": "8UgW5Fw4aHdG",
        "colab_type": "code",
        "colab": {}
      },
      "source": [
        "test_images = test_data.values\n",
        "test_images = np.array([np.reshape(i, (28, 28)) for i in test_images])\n",
        "test_images = np.array([i.flatten() for i in test_images])"
      ],
      "execution_count": 253,
      "outputs": []
    },
    {
      "cell_type": "code",
      "metadata": {
        "id": "01SSFYV1aLET",
        "colab_type": "code",
        "colab": {}
      },
      "source": [
        "test_labels = label_binarizer.fit_transform(test_labels)"
      ],
      "execution_count": 254,
      "outputs": []
    },
    {
      "cell_type": "code",
      "metadata": {
        "id": "-XhIhR-YaNbL",
        "colab_type": "code",
        "colab": {}
      },
      "source": [
        "test_images = test_images.reshape(test_images.shape[0], 28, 28, 1)"
      ],
      "execution_count": 255,
      "outputs": []
    },
    {
      "cell_type": "code",
      "metadata": {
        "id": "5TP8z5oYaSmq",
        "colab_type": "code",
        "colab": {
          "base_uri": "https://localhost:8080/",
          "height": 34
        },
        "outputId": "96c95941-658f-4cfd-e40b-701f5e367ecc"
      },
      "source": [
        "test_images.shape"
      ],
      "execution_count": 256,
      "outputs": [
        {
          "output_type": "execute_result",
          "data": {
            "text/plain": [
              "(7172, 28, 28, 1)"
            ]
          },
          "metadata": {
            "tags": []
          },
          "execution_count": 256
        }
      ]
    },
    {
      "cell_type": "markdown",
      "metadata": {
        "id": "xTdCn1ggaVQQ",
        "colab_type": "text"
      },
      "source": [
        "Predecting with test images"
      ]
    },
    {
      "cell_type": "markdown",
      "metadata": {
        "id": "nDO-YwQNvkZk",
        "colab_type": "text"
      },
      "source": [
        "## **Provide the Index to Check which Image is present at that index:**\n",
        "Please Enter a Number between {0 and 7172}...."
      ]
    },
    {
      "cell_type": "code",
      "metadata": {
        "id": "QuKhUVkYvV1l",
        "colab_type": "code",
        "colab": {}
      },
      "source": [
        "index_for_image = 4000"
      ],
      "execution_count": 276,
      "outputs": []
    },
    {
      "cell_type": "code",
      "metadata": {
        "id": "l-DwvFWhrITK",
        "colab_type": "code",
        "colab": {
          "base_uri": "https://localhost:8080/",
          "height": 282
        },
        "outputId": "7bd63417-ce33-4eb9-e14f-76699c7dad3e"
      },
      "source": [
        "sample_img  = np.reshape(test_images[index_for_image],(28,28))\n",
        "plt.imshow(sample_img)"
      ],
      "execution_count": 277,
      "outputs": [
        {
          "output_type": "execute_result",
          "data": {
            "text/plain": [
              "<matplotlib.image.AxesImage at 0x7f649d362240>"
            ]
          },
          "metadata": {
            "tags": []
          },
          "execution_count": 277
        },
        {
          "output_type": "display_data",
          "data": {
            "image/png": "[encoded data removed]",
            "text/plain": [
              "<Figure size 432x288 with 1 Axes>"
            ]
          },
          "metadata": {
            "tags": [],
            "needs_background": "light"
          }
        }
      ]
    },
    {
      "cell_type": "code",
      "metadata": {
        "id": "IPy4hh6qaVdN",
        "colab_type": "code",
        "colab": {}
      },
      "source": [
        "y_pred = model.predict(test_images)"
      ],
      "execution_count": 271,
      "outputs": []
    },
    {
      "cell_type": "markdown",
      "metadata": {
        "id": "BJjrFPrtwD9V",
        "colab_type": "text"
      },
      "source": [
        "## **Applying the Inverse Transform to get our original Label back from Binary_Encoded Labels:**\n",
        "The code below tell the predicted label from the Model and Compare it with the above image to Check the results."
      ]
    },
    {
      "cell_type": "code",
      "metadata": {
        "id": "vd2dsZmTr9Uj",
        "colab_type": "code",
        "colab": {
          "base_uri": "https://localhost:8080/",
          "height": 51
        },
        "outputId": "57ea28b7-e017-42b0-efb5-2fcb7b38bcf9"
      },
      "source": [
        "labels_inv = label_binarizer.inverse_transform(y_pred)\n",
        "int_label = labels_inv[index_for_image]\n",
        "print(int_label)\n",
        "\n",
        "# One Hot encoding:\n",
        "def conver_to_char(word):\n",
        "    word_dict = {0:\"A\", 1:\"B\", 2:\"C\", 3:\"D\", 4:\"E\", 5:\"F\", 6:\"G\", 7:\"H\", 8:\"I\",\n",
        "                 9:\"J\", 10:\"K\", 11:\"L\", 12:\"M\", 13:\"N\", 14:\"O\", 15:\"P\", 16:\"Q\",\n",
        "                 17:\"R\", 18:\"S\", 19:\"T\", 20:\"U\", 21:\"V\", 22:\"W\", 23:\"X\", 24:\"Y\",\n",
        "                 25:\"Z\"}\n",
        "    return word_dict[word]\n",
        "print(conver_to_char(int_label))"
      ],
      "execution_count": 280,
      "outputs": [
        {
          "output_type": "stream",
          "text": [
            "22\n",
            "W\n"
          ],
          "name": "stdout"
        }
      ]
    },
    {
      "cell_type": "code",
      "metadata": {
        "id": "zNxlrrNBaYuL",
        "colab_type": "code",
        "colab": {}
      },
      "source": [
        "from sklearn.metrics import accuracy_score"
      ],
      "execution_count": 61,
      "outputs": []
    },
    {
      "cell_type": "code",
      "metadata": {
        "id": "1VqqrKqqaaiP",
        "colab_type": "code",
        "colab": {
          "base_uri": "https://localhost:8080/",
          "height": 34
        },
        "outputId": "7e35e1d1-e47e-46ef-bb18-408cfab2ce22"
      },
      "source": [
        "accuracy_score(test_labels, y_pred.round())"
      ],
      "execution_count": 62,
      "outputs": [
        {
          "output_type": "execute_result",
          "data": {
            "text/plain": [
              "0.9114612381483547"
            ]
          },
          "metadata": {
            "tags": []
          },
          "execution_count": 62
        }
      ]
    },
    {
      "cell_type": "markdown",
      "metadata": {
        "id": "bVJh840Maff3",
        "colab_type": "text"
      },
      "source": [
        "As we can see we got a really great accuracy"
      ]
    },
    {
      "cell_type": "markdown",
      "metadata": {
        "id": "_GlUTcCXah0y",
        "colab_type": "text"
      },
      "source": [
        "We can increate the accuracy by tuning the hyper parameters of the model like playing with different activation functions and using different loss functions"
      ]
    },
    {
      "cell_type": "code",
      "metadata": {
        "id": "kzsQmYwU0Nue",
        "colab_type": "code",
        "colab": {}
      },
      "source": [
        "class_name = [\"A\", \"B\", \"C\", \"D\", \"E\", \"F\", \"G\", \"H\", \"I\",\n",
        "                 \"K\", \"L\", \"M\", \"N\", \"O\", \"P\", \"Q\", \"R\",\n",
        "                 \"S\", \"T\", \"U\", \"V\", \"W\", \"X\", \"Y\"]"
      ],
      "execution_count": 97,
      "outputs": []
    },
    {
      "cell_type": "markdown",
      "metadata": {
        "id": "vZhAi3oZpiDn",
        "colab_type": "text"
      },
      "source": [
        "## **Finished**"
      ]
    }
  ]
}